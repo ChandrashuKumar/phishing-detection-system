{
 "cells": [
  {
   "cell_type": "markdown",
   "metadata": {},
   "source": [
    "# Email Phishing Dataset - Exploratory Data Analysis\n",
    "\n",
    "Exploring the Seven Emails phishing dataset for BERT-LSTM model development.\n",
    "\n",
    "**Dataset:** `data/unprocessed/email-detection/Seven Emails phishing dataset/`"
   ]
  },
  {
   "cell_type": "markdown",
   "metadata": {},
   "source": [
    "## 1. Setup"
   ]
  },
  {
   "cell_type": "code",
   "execution_count": 7,
   "metadata": {},
   "outputs": [],
   "source": [
    "import pandas as pd\n",
    "import numpy as np\n",
    "import matplotlib.pyplot as plt\n",
    "import seaborn as sns\n",
    "from pathlib import Path\n",
    "import warnings\n",
    "\n",
    "warnings.filterwarnings('ignore')\n",
    "plt.style.use('seaborn-v0_8-darkgrid')\n",
    "sns.set_palette('husl')\n",
    "pd.set_option('display.max_columns', None)\n",
    "pd.set_option('display.max_colwidth', 100)"
   ]
  },
  {
   "cell_type": "markdown",
   "metadata": {},
   "source": [
    "## 2. Load Datasets"
   ]
  },
  {
   "cell_type": "code",
   "execution_count": 8,
   "metadata": {},
   "outputs": [
    {
     "name": "stdout",
     "output_type": "stream",
     "text": [
      "Dataset Files:\n",
      "============================================================\n",
      "Assassin.csv         -    14.19 MB\n",
      "CEAS-08.csv          -    64.76 MB\n",
      "Enron.csv            -    42.76 MB\n",
      "Ling.csv             -     8.90 MB\n",
      "TREC-05.csv          -   117.43 MB\n",
      "TREC-06.csv          -    39.98 MB\n",
      "TREC-07.csv          -    95.60 MB\n"
     ]
    }
   ],
   "source": [
    "DATA_PATH = Path('../../../data/unprocessed/email-detection/Seven Emails phishing dataset')\n",
    "\n",
    "csv_files = ['Assassin.csv', 'CEAS-08.csv', 'Enron.csv', 'Ling.csv', 'TREC-05.csv', 'TREC-06.csv', 'TREC-07.csv']\n",
    "\n",
    "print('Dataset Files:')\n",
    "print('='*60)\n",
    "for file in csv_files:\n",
    "    fp = DATA_PATH / file\n",
    "    if fp.exists():\n",
    "        print(f'{file:20s} - {fp.stat().st_size / (1024*1024):>8.2f} MB')\n",
    "    else:\n",
    "        print(f'{file:20s} - NOT FOUND')"
   ]
  },
  {
   "cell_type": "code",
   "execution_count": 9,
   "metadata": {},
   "outputs": [
    {
     "name": "stdout",
     "output_type": "stream",
     "text": [
      "\n",
      "Loading datasets...\n",
      "============================================================\n",
      "✓ Assassin.csv         - loaded_successfully\n",
      "✓ CEAS-08.csv          - loaded_successfully\n",
      "✓ Enron.csv            - loaded_successfully\n",
      "✓ Ling.csv             - loaded_successfully\n",
      "✓ TREC-05.csv          - loaded_with_skipped_lines\n",
      "✓ TREC-06.csv          - loaded_with_skipped_lines\n",
      "✓ TREC-07.csv          - loaded_successfully\n",
      "\n",
      "Loaded 7 datasets\n"
     ]
    }
   ],
   "source": [
    "def load_dataset(file_path, file_name):\n",
    "    try:\n",
    "        if file_name in ['TREC-05.csv', 'TREC-06.csv']:\n",
    "            df = pd.read_csv(file_path, on_bad_lines='skip', engine='python', encoding='utf-8', quoting=1)\n",
    "            return df, 'loaded_with_skipped_lines'\n",
    "        else:\n",
    "            df = pd.read_csv(file_path)\n",
    "            return df, 'loaded_successfully'\n",
    "    except Exception as e:\n",
    "        return None, f'error: {str(e)}'\n",
    "\n",
    "datasets = {}\n",
    "print('\\nLoading datasets...')\n",
    "print('='*60)\n",
    "for file in csv_files:\n",
    "    df, status = load_dataset(DATA_PATH / file, file)\n",
    "    if df is not None:\n",
    "        datasets[file.replace('.csv', '')] = df\n",
    "        print(f'✓ {file:20s} - {status}')\n",
    "    else:\n",
    "        print(f'✗ {file:20s} - {status}')\n",
    "\n",
    "print(f'\\nLoaded {len(datasets)} datasets')"
   ]
  },
  {
   "cell_type": "markdown",
   "metadata": {},
   "source": [
    "## 3. Schema Analysis"
   ]
  },
  {
   "cell_type": "code",
   "execution_count": 10,
   "metadata": {},
   "outputs": [
    {
     "name": "stdout",
     "output_type": "stream",
     "text": [
      "Dataset Schemas:\n",
      "================================================================================\n",
      "\n",
      "Assassin: (5809, 7)\n",
      "  Columns: ['sender', 'receiver', 'date', 'subject', 'body', 'label', 'urls']\n",
      "  Label dtype: int64\n",
      "\n",
      "CEAS-08: (39154, 7)\n",
      "  Columns: ['sender', 'receiver', 'date', 'subject', 'body', 'label', 'urls']\n",
      "  Label dtype: int64\n",
      "\n",
      "Enron: (29767, 3)\n",
      "  Columns: ['subject', 'body', 'label']\n",
      "  Label dtype: int64\n",
      "\n",
      "Ling: (2859, 3)\n",
      "  Columns: ['subject', 'body', 'label']\n",
      "  Label dtype: int64\n",
      "\n",
      "TREC-05: (59015, 7)\n",
      "  Columns: ['sender', 'receiver', 'date', 'subject', 'body', 'label', 'urls']\n",
      "  Label dtype: object\n",
      "\n",
      "TREC-06: (16439, 7)\n",
      "  Columns: ['sender', 'receiver', 'date', 'subject', 'body', 'label', 'urls']\n",
      "  Label dtype: float64\n",
      "\n",
      "TREC-07: (53757, 7)\n",
      "  Columns: ['sender', 'receiver', 'date', 'subject', 'body', 'label', 'urls']\n",
      "  Label dtype: int64\n"
     ]
    }
   ],
   "source": [
    "print('Dataset Schemas:')\n",
    "print('='*80)\n",
    "for name, df in datasets.items():\n",
    "    print(f'\\n{name}: {df.shape}')\n",
    "    print(f'  Columns: {list(df.columns)}')\n",
    "    print(f'  Label dtype: {df[\"label\"].dtype}')"
   ]
  },
  {
   "cell_type": "markdown",
   "metadata": {},
   "source": [
    "## 4. Label Distribution Analysis"
   ]
  },
  {
   "cell_type": "code",
   "execution_count": 11,
   "metadata": {},
   "outputs": [
    {
     "name": "stdout",
     "output_type": "stream",
     "text": [
      "Label Distribution:\n",
      "================================================================================\n",
      "\n",
      "Assassin: 5,809 emails\n",
      "  Unique labels: [np.int64(0), np.int64(1)]\n",
      "  Top label values:\n",
      "    0: 4,091 (70.43%)\n",
      "    1: 1,718 (29.57%)\n",
      "\n",
      "CEAS-08: 39,154 emails\n",
      "  Unique labels: [np.int64(0), np.int64(1)]\n",
      "  Top label values:\n",
      "    1: 21,842 (55.78%)\n",
      "    0: 17,312 (44.22%)\n",
      "\n",
      "Enron: 29,767 emails\n",
      "  Unique labels: [np.int64(0), np.int64(1)]\n",
      "  Top label values:\n",
      "    0: 15,791 (53.05%)\n",
      "    1: 13,976 (46.95%)\n",
      "\n",
      "Ling: 2,859 emails\n",
      "  Unique labels: [np.int64(0), np.int64(1)]\n",
      "  Top label values:\n",
      "    0: 2,401 (83.98%)\n",
      "    1: 458 (16.02%)\n",
      "\n",
      "TREC-05: 59,015 emails\n",
      "  Unique labels: [' \"\"The Senate\\'s economic proposal focuses more on the excise tax for rum and other special-interest breaks than creating jobs.\"\" ', ' +1-415-894-9376', ' 128 Mb computers resources and is subject to delay and jitter due to end-users computer being used as a Proxy Server on the network. Management believes this to be one of the most complete and technologically advanced |ine of VoIP products currently availab|e in the world.', \" 9p stronger at 565p after Saudi Arabia suggested the mood was shifting towards a production cut of 1.5m barrels at next week's Opec meeting. News that Russian oil companies are considering a cut also helped. \", ' Enron marked up its net worth by $1.2 billion. ', \" Enron promised to back up the debt with its own stock if necessary. But if Enron's credit rating fell below investment grade and the stock fell below a certain point\", \" Enron will potentially need to provide more than $500 million to pay off the notes. Fitch will closely monitor Enron's cash position through the merger period. \", \" Enron's lenders\", ' Fitch said. ', ' Goldman had kept the stock on its recommended list.']\n",
      "  ... +58 more\n",
      "  Top label values:\n",
      "    0: 32,278 (54.69%)\n",
      "    1: 22,932 (38.86%)\n",
      "     its erstwhile saviour: 2 (0.00%)\n",
      "     S&P explained in stark terms how the virtuous circle of confidence might now become a vicious downward spiral. : 2 (0.00%)\n",
      "     Enron's lenders: 2 (0.00%)\n",
      "    ... +63 more\n",
      "\n",
      "TREC-06: 16,439 emails\n",
      "  Unique labels: [np.float64(0.0), np.float64(1.0)]\n",
      "  Top label values:\n",
      "    0.0: 12,393 (75.39%)\n",
      "    1.0: 3,989 (24.27%)\n",
      "\n",
      "TREC-07: 53,757 emails\n",
      "  Unique labels: [np.int64(0), np.int64(1)]\n",
      "  Top label values:\n",
      "    1: 29,399 (54.69%)\n",
      "    0: 24,358 (45.31%)\n",
      "\n",
      "================================================================================\n",
      "SUMMARY\n",
      "================================================================================\n",
      " Dataset  Total  Label_0  Label_1  Other  Null  Unique\n",
      "Assassin   5809     4091     1718      0     0       2\n",
      " CEAS-08  39154    17312    21842      0     0       2\n",
      "   Enron  29767    15791    13976      0     0       2\n",
      "    Ling   2859     2401      458      0     0       2\n",
      " TREC-05  59015        0        0  59015  3736      68\n",
      " TREC-06  16439    12393     3989     57    57       2\n",
      " TREC-07  53757    24358    29399      0     0       2\n"
     ]
    }
   ],
   "source": [
    "print('Label Distribution:')\n",
    "print('='*80)\n",
    "\n",
    "summary_data = []\n",
    "\n",
    "for name, df in datasets.items():\n",
    "    print(f'\\n{name}: {len(df):,} emails')\n",
    "    \n",
    "    # Get unique labels (handle mixed types)\n",
    "    unique_labels = df['label'].dropna().unique()\n",
    "    try:\n",
    "        unique_sorted = sorted([x for x in unique_labels if pd.notna(x)])\n",
    "    except TypeError:\n",
    "        unique_sorted = sorted([str(x) for x in unique_labels if pd.notna(x)])\n",
    "    \n",
    "    print(f'  Unique labels: {unique_sorted[:10]}')\n",
    "    if len(unique_sorted) > 10:\n",
    "        print(f'  ... +{len(unique_sorted)-10} more')\n",
    "    \n",
    "    # Count top labels\n",
    "    label_counts = df['label'].value_counts()\n",
    "    print(f'  Top label values:')\n",
    "    for label, count in label_counts.head(5).items():\n",
    "        print(f'    {label}: {count:,} ({count/len(df)*100:.2f}%)')\n",
    "    if len(label_counts) > 5:\n",
    "        print(f'    ... +{len(label_counts)-5} more')\n",
    "    \n",
    "    # Count binary labels\n",
    "    label_0 = (df['label'] == 0).sum()\n",
    "    label_1 = (df['label'] == 1).sum()\n",
    "    null_count = df['label'].isnull().sum()\n",
    "    other = len(df) - label_0 - label_1\n",
    "    \n",
    "    summary_data.append({\n",
    "        'Dataset': name,\n",
    "        'Total': len(df),\n",
    "        'Label_0': label_0,\n",
    "        'Label_1': label_1,\n",
    "        'Other': other,\n",
    "        'Null': null_count,\n",
    "        'Unique': len(unique_sorted)\n",
    "    })\n",
    "\n",
    "df_summary = pd.DataFrame(summary_data)\n",
    "print('\\n' + '='*80)\n",
    "print('SUMMARY')\n",
    "print('='*80)\n",
    "print(df_summary.to_string(index=False))"
   ]
  },
  {
   "cell_type": "code",
   "execution_count": null,
   "metadata": {},
   "outputs": [
    {
     "name": "stdout",
     "output_type": "stream",
     "text": [
      "\n",
      "================================================================================\n",
      "OVERALL STATISTICS\n",
      "================================================================================\n",
      "Total Emails: 206,800\n",
      "Label 0 (Legitimate): 76,346 (36.92%)\n",
      "Label 1 (Phishing):   71,382 (34.52%)\n",
      "Other Labels:         59,072 (28.56%)\n",
      "\n",
      "Accounted: 206,800\n",
      "Matches total: True\n",
      "\n",
      "⚠ MISSING 59,072 emails between Label 0+1 vs Total\n"
     ]
    }
   ],
   "source": [
    "# Overall statistics\n",
    "total = df_summary['Total'].sum()\n",
    "total_0 = df_summary['Label_0'].sum()\n",
    "total_1 = df_summary['Label_1'].sum()\n",
    "total_other = df_summary['Other'].sum()\n",
    "\n",
    "print('\\n' + '='*80)\n",
    "print('OVERALL STATISTICS')\n",
    "print('='*80)\n",
    "print(f'Total Emails: {total:,}')\n",
    "print(f'Label 0 (Legitimate): {total_0:,} ({total_0/total*100:.2f}%)')\n",
    "print(f'Label 1 (Phishing):   {total_1:,} ({total_1/total*100:.2f}%)')\n",
    "print(f'Other Labels:         {total_other:,} ({total_other/total*100:.2f}%)')\n",
    "print(f'\\nAccounted: {total_0 + total_1 + total_other:,}')\n",
    "print(f'Matches total: {total == (total_0 + total_1 + total_other)}')\n",
    "print(f'\\n⚠ MISSING {total - total_0 - total_1:,} emails between Label 0+1 vs Total')"
   ]
  },
  {
   "cell_type": "markdown",
   "metadata": {},
   "source": [
    "## 5. Visualizations"
   ]
  },
  {
   "cell_type": "code",
   "execution_count": 9,
   "metadata": {},
   "outputs": [
    {
     "data": {
      "image/png": "[encoded data removed]",
      "text/plain": [
       "<Figure size 1500x1000 with 4 Axes>"
      ]
     },
     "metadata": {},
     "output_type": "display_data"
    }
   ],
   "source": [
    "fig, axes = plt.subplots(2, 2, figsize=(15, 10))\n",
    "\n",
    "# Total emails\n",
    "df_summary.plot(x='Dataset', y='Total', kind='bar', ax=axes[0,0], legend=False, color='skyblue')\n",
    "axes[0,0].set_title('Total Emails', fontweight='bold')\n",
    "axes[0,0].set_ylabel('Count')\n",
    "axes[0,0].tick_params(axis='x', rotation=45)\n",
    "\n",
    "# Class distribution\n",
    "df_summary.plot(x='Dataset', y=['Label_0', 'Label_1'], kind='bar', ax=axes[0,1], color=['green', 'red'])\n",
    "axes[0,1].set_title('Label 0 vs Label 1', fontweight='bold')\n",
    "axes[0,1].set_ylabel('Count')\n",
    "axes[0,1].legend(['Legitimate (0)', 'Phishing (1)'])\n",
    "axes[0,1].tick_params(axis='x', rotation=45)\n",
    "\n",
    "# Phishing percentage\n",
    "df_summary['Phish_Pct'] = (df_summary['Label_1'] / df_summary['Total']) * 100\n",
    "df_summary.plot(x='Dataset', y='Phish_Pct', kind='bar', ax=axes[1,0], legend=False, color='coral')\n",
    "axes[1,0].set_title('Phishing Percentage', fontweight='bold')\n",
    "axes[1,0].set_ylabel('Percent')\n",
    "axes[1,0].axhline(50, color='red', linestyle='--', linewidth=1)\n",
    "axes[1,0].tick_params(axis='x', rotation=45)\n",
    "\n",
    "# Overall pie\n",
    "axes[1,1].pie([total_0, total_1, total_other], labels=['Legitimate', 'Phishing', 'Other'], \n",
    "              autopct='%1.1f%%', colors=['green', 'red', 'orange'])\n",
    "axes[1,1].set_title('Overall Distribution', fontweight='bold')\n",
    "\n",
    "plt.tight_layout()\n",
    "plt.show()"
   ]
  },
  {
   "cell_type": "markdown",
   "metadata": {},
   "source": [
    "## 6. Text Analysis (Assassin Dataset)"
   ]
  },
  {
   "cell_type": "code",
   "execution_count": 10,
   "metadata": {},
   "outputs": [
    {
     "name": "stdout",
     "output_type": "stream",
     "text": [
      "Sample Dataset: Assassin - (5809, 7)\n",
      "Columns: ['sender', 'receiver', 'date', 'subject', 'body', 'label', 'urls']\n"
     ]
    },
    {
     "data": {
      "text/html": [
       "<div>\n",
       "<style scoped>\n",
       "    .dataframe tbody tr th:only-of-type {\n",
       "        vertical-align: middle;\n",
       "    }\n",
       "\n",
       "    .dataframe tbody tr th {\n",
       "        vertical-align: top;\n",
       "    }\n",
       "\n",
       "    .dataframe thead th {\n",
       "        text-align: right;\n",
       "    }\n",
       "</style>\n",
       "<table border=\"1\" class=\"dataframe\">\n",
       "  <thead>\n",
       "    <tr style=\"text-align: right;\">\n",
       "      <th></th>\n",
       "      <th>sender</th>\n",
       "      <th>receiver</th>\n",
       "      <th>date</th>\n",
       "      <th>subject</th>\n",
       "      <th>body</th>\n",
       "      <th>label</th>\n",
       "      <th>urls</th>\n",
       "    </tr>\n",
       "  </thead>\n",
       "  <tbody>\n",
       "    <tr>\n",
       "      <th>0</th>\n",
       "      <td>Robert Elz &lt;kre@munnari.OZ.AU&gt;</td>\n",
       "      <td>Chris Garrigues &lt;cwg-dated-1030377287.06fa6d@DeepEddy.Com&gt;</td>\n",
       "      <td>Thu, 22 Aug 2002 18:26:25 +0700</td>\n",
       "      <td>Re: New Sequences Window</td>\n",
       "      <td>Date:        Wed, 21 Aug 2002 10:54:46 -0500     From:        Chris Garrigues      Message-ID:  ...</td>\n",
       "      <td>0</td>\n",
       "      <td>1</td>\n",
       "    </tr>\n",
       "    <tr>\n",
       "      <th>1</th>\n",
       "      <td>Steve Burt &lt;Steve_Burt@cursor-system.com&gt;</td>\n",
       "      <td>\"'zzzzteana@yahoogroups.com'\" &lt;zzzzteana@yahoogroups.com&gt;</td>\n",
       "      <td>Thu, 22 Aug 2002 12:46:18 +0100</td>\n",
       "      <td>[zzzzteana] RE: Alexander</td>\n",
       "      <td>Martin A posted:\\nTassos Papadopoulos, the Greek sculptor behind the plan, judged that the\\n lim...</td>\n",
       "      <td>0</td>\n",
       "      <td>1</td>\n",
       "    </tr>\n",
       "  </tbody>\n",
       "</table>\n",
       "</div>"
      ],
      "text/plain": [
       "                                      sender  \\\n",
       "0             Robert Elz <kre@munnari.OZ.AU>   \n",
       "1  Steve Burt <Steve_Burt@cursor-system.com>   \n",
       "\n",
       "                                                     receiver  \\\n",
       "0  Chris Garrigues <cwg-dated-1030377287.06fa6d@DeepEddy.Com>   \n",
       "1   \"'zzzzteana@yahoogroups.com'\" <zzzzteana@yahoogroups.com>   \n",
       "\n",
       "                              date                    subject  \\\n",
       "0  Thu, 22 Aug 2002 18:26:25 +0700   Re: New Sequences Window   \n",
       "1  Thu, 22 Aug 2002 12:46:18 +0100  [zzzzteana] RE: Alexander   \n",
       "\n",
       "                                                                                                  body  \\\n",
       "0  Date:        Wed, 21 Aug 2002 10:54:46 -0500     From:        Chris Garrigues      Message-ID:  ...   \n",
       "1  Martin A posted:\\nTassos Papadopoulos, the Greek sculptor behind the plan, judged that the\\n lim...   \n",
       "\n",
       "   label  urls  \n",
       "0      0     1  \n",
       "1      0     1  "
      ]
     },
     "execution_count": 10,
     "metadata": {},
     "output_type": "execute_result"
    }
   ],
   "source": [
    "df_sample = datasets['Assassin'].copy()\n",
    "\n",
    "print(f'Sample Dataset: Assassin - {df_sample.shape}')\n",
    "print(f'Columns: {list(df_sample.columns)}')\n",
    "df_sample.head(2)"
   ]
  },
  {
   "cell_type": "code",
   "execution_count": null,
   "metadata": {},
   "outputs": [],
   "source": [
    "# Text lengths\n",
    "df_sample['body_len'] = df_sample['body'].fillna('').astype(str).apply(len)\n",
    "df_sample['subj_len'] = df_sample['subject'].fillna('').astype(str).apply(len)\n",
    "df_sample['words'] = df_sample['body'].fillna('').astype(str).apply(lambda x: len(x.split()))\n",
    "\n",
    "print('Text Stats by Label:')\n",
    "print(df_sample.groupby('label')[['body_len', 'subj_len', 'words']].describe())"
   ]
  },
  {
   "cell_type": "code",
   "execution_count": null,
   "metadata": {},
   "outputs": [],
   "source": [
    "fig, axes = plt.subplots(1, 2, figsize=(12, 4))\n",
    "\n",
    "# Body length\n",
    "df_sample[df_sample['label']==0]['body_len'].hist(bins=50, alpha=0.6, ax=axes[0], color='green', label='Legit')\n",
    "df_sample[df_sample['label']==1]['body_len'].hist(bins=50, alpha=0.6, ax=axes[0], color='red', label='Phishing')\n",
    "axes[0].set_title('Body Length Distribution')\n",
    "axes[0].set_xlabel('Characters')\n",
    "axes[0].set_xlim(0, 5000)\n",
    "axes[0].legend()\n",
    "\n",
    "# Word count\n",
    "df_sample[df_sample['label']==0]['words'].hist(bins=50, alpha=0.6, ax=axes[1], color='green', label='Legit')\n",
    "df_sample[df_sample['label']==1]['words'].hist(bins=50, alpha=0.6, ax=axes[1], color='red', label='Phishing')\n",
    "axes[1].set_title('Word Count Distribution')\n",
    "axes[1].set_xlabel('Words')\n",
    "axes[1].set_xlim(0, 800)\n",
    "axes[1].legend()\n",
    "\n",
    "plt.tight_layout()\n",
    "plt.show()"
   ]
  },
  {
   "cell_type": "markdown",
   "metadata": {},
   "source": [
    "## 7. Sample Emails"
   ]
  },
  {
   "cell_type": "code",
   "execution_count": null,
   "metadata": {},
   "outputs": [],
   "source": [
    "print('SAMPLE LEGITIMATE EMAIL')\n",
    "print('='*80)\n",
    "s = df_sample[df_sample['label']==0].iloc[0]\n",
    "print(f'Subject: {s[\"subject\"]}')\n",
    "print(f'Body: {str(s[\"body\"])[:400]}...')"
   ]
  },
  {
   "cell_type": "code",
   "execution_count": null,
   "metadata": {},
   "outputs": [],
   "source": [
    "print('SAMPLE PHISHING EMAIL')\n",
    "print('='*80)\n",
    "if (df_sample['label']==1).any():\n",
    "    s = df_sample[df_sample['label']==1].iloc[0]\n",
    "    print(f'Subject: {s[\"subject\"]}')\n",
    "    print(f'Body: {str(s[\"body\"])[:400]}...')\n",
    "else:\n",
    "    print('No phishing samples found')"
   ]
  }
 ],
 "metadata": {
  "kernelspec": {
   "display_name": "ml_project",
   "language": "python",
   "name": "python3"
  },
  "language_info": {
   "codemirror_mode": {
    "name": "ipython",
    "version": 3
   },
   "file_extension": ".py",
   "mimetype": "text/x-python",
   "name": "python",
   "nbconvert_exporter": "python",
   "pygments_lexer": "ipython3",
   "version": "3.12.12"
  }
 },
 "nbformat": 4,
 "nbformat_minor": 4
}
