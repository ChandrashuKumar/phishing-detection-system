{
 "cells": [
  {
   "cell_type": "code",
   "execution_count": 1,
   "id": "5f56c782",
   "metadata": {},
   "outputs": [
    {
     "name": "stdout",
     "output_type": "stream",
     "text": [
      "RANDOM FOREST - PHISHING URL DETECTION\n",
      "Started at: 2025-10-26 01:38:40\n"
     ]
    }
   ],
   "source": [
    "import pandas as pd\n",
    "import numpy as np\n",
    "import matplotlib.pyplot as plt\n",
    "import seaborn as sns\n",
    "import os\n",
    "import pickle\n",
    "from sklearn.ensemble import RandomForestClassifier\n",
    "from sklearn.metrics import (\n",
    "    accuracy_score, \n",
    "    precision_score, \n",
    "    recall_score, \n",
    "    f1_score,\n",
    "    confusion_matrix,\n",
    "    classification_report,\n",
    "    roc_curve,\n",
    "    roc_auc_score\n",
    ")\n",
    "from datetime import datetime\n",
    "\n",
    "# Set visualization style\n",
    "sns.set_style(\"whitegrid\")\n",
    "plt.rcParams['figure.figsize'] = (12, 6)\n",
    "\n",
    "print(\"RANDOM FOREST - PHISHING URL DETECTION\")\n",
    "print(f\"Started at: {datetime.now().strftime('%Y-%m-%d %H:%M:%S')}\")"
   ]
  },
  {
   "cell_type": "code",
   "execution_count": 2,
   "id": "397b37ed",
   "metadata": {},
   "outputs": [
    {
     "name": "stdout",
     "output_type": "stream",
     "text": [
      "LOADING DATA\n",
      "\n",
      "Loading training data...\n",
      "Train data loaded: 371,941 rows, 521 columns\n",
      "\n",
      "Loading test data...\n",
      "Test data loaded: 36,787 rows, 521 columns\n",
      "\n",
      "First few rows of training data:\n",
      "   url_length  domain_length  path_length  tld_length  num_dots  num_hyphens  \\\n",
      "0        40.0           10.0          3.0         2.0       2.0          0.0   \n",
      "1        57.0            9.0         25.0         2.0       2.0          0.0   \n",
      "2        84.0            5.0         52.0         2.0       3.0          6.0   \n",
      "\n",
      "   num_underscores  num_slashes  num_question  num_ampersand  ...  tfidf_491  \\\n",
      "0              0.0          3.0           0.0            0.0  ...        0.0   \n",
      "1              2.0          3.0           0.0            0.0  ...        0.0   \n",
      "2              0.0          4.0           0.0            0.0  ...        0.0   \n",
      "\n",
      "   tfidf_492  tfidf_493  tfidf_494  tfidf_495  tfidf_496  tfidf_497  \\\n",
      "0        0.0        0.0        0.0        0.0        0.0        0.0   \n",
      "1        0.0        0.0        0.0        0.0        0.0        0.0   \n",
      "2        0.0        0.0        0.0        0.0        0.0        0.0   \n",
      "\n",
      "   tfidf_498  tfidf_499   label  \n",
      "0        0.0        0.0   phish  \n",
      "1        0.0        0.0   phish  \n",
      "2        0.0        0.0  benign  \n",
      "\n",
      "[3 rows x 521 columns]\n",
      "\n",
      "Data types:\n",
      "url_length       float64\n",
      "domain_length    float64\n",
      "path_length      float64\n",
      "tld_length       float64\n",
      "num_dots         float64\n",
      "                  ...   \n",
      "tfidf_496        float64\n",
      "tfidf_497        float64\n",
      "tfidf_498        float64\n",
      "tfidf_499        float64\n",
      "label             object\n",
      "Length: 521, dtype: object\n",
      "\n",
      "Class distribution in training data:\n",
      "label\n",
      "benign    253189\n",
      "phish     118752\n",
      "Name: count, dtype: int64\n",
      "\n",
      "% Distribution:\n",
      "label\n",
      "benign    68.072356\n",
      "phish     31.927644\n",
      "Name: proportion, dtype: float64\n"
     ]
    }
   ],
   "source": [
    "# ============================================\n",
    "# STEP 1: LOAD PROCESSED DATA\n",
    "# ============================================\n",
    "\n",
    "print(\"LOADING DATA\")\n",
    "\n",
    "TRAIN_PATH = '../../../data/processed/url-detection/phishing_features_train.csv'\n",
    "TEST_PATH = '../../../data/processed/url-detection/phishing_features_test.csv'\n",
    "\n",
    "# Load data\n",
    "print(\"\\nLoading training data...\")\n",
    "train_df = pd.read_csv(TRAIN_PATH)\n",
    "print(f\"Train data loaded: {train_df.shape[0]:,} rows, {train_df.shape[1]} columns\")\n",
    "\n",
    "print(\"\\nLoading test data...\")\n",
    "test_df = pd.read_csv(TEST_PATH)\n",
    "print(f\"Test data loaded: {test_df.shape[0]:,} rows, {test_df.shape[1]} columns\")\n",
    "\n",
    "print(\"\\nFirst few rows of training data:\")\n",
    "print(train_df.head(3))\n",
    "\n",
    "print(\"\\nData types:\")\n",
    "print(train_df.dtypes)\n",
    "\n",
    "print(\"\\nClass distribution in training data:\")\n",
    "print(train_df['label'].value_counts())\n",
    "print(\"\\n% Distribution:\")\n",
    "print(train_df['label'].value_counts(normalize=True) * 100)"
   ]
  },
  {
   "cell_type": "code",
   "execution_count": 3,
   "id": "abd65cdb",
   "metadata": {},
   "outputs": [
    {
     "name": "stdout",
     "output_type": "stream",
     "text": [
      "PREPARING DATA\n",
      "\n",
      "Separating features and target...\n",
      "Training features (X_train): (371941, 520)\n",
      "Training target (y_train): (371941,)\n",
      "Test features (X_test): (36787, 520)\n",
      "Test target (y_test): (36787,)\n",
      "\n",
      "Checking for missing values...\n",
      "No missing values found!\n"
     ]
    }
   ],
   "source": [
    "# ============================================\n",
    "# STEP 2: PREPARE DATA FOR TRAINING\n",
    "# ============================================\n",
    "\n",
    "print(\"PREPARING DATA\")\n",
    "\n",
    "\n",
    "print(\"\\nSeparating features and target...\")\n",
    "\n",
    "# Training data\n",
    "X_train = train_df.drop('label', axis=1)\n",
    "y_train = train_df['label']\n",
    "\n",
    "# Test data\n",
    "X_test = test_df.drop('label', axis=1)\n",
    "y_test = test_df['label']\n",
    "\n",
    "print(f\"Training features (X_train): {X_train.shape}\")\n",
    "print(f\"Training target (y_train): {y_train.shape}\")\n",
    "print(f\"Test features (X_test): {X_test.shape}\")\n",
    "print(f\"Test target (y_test): {y_test.shape}\")\n",
    "\n",
    "# Check for any missing values\n",
    "print(\"\\nChecking for missing values...\")\n",
    "missing_train = X_train.isnull().sum().sum()\n",
    "missing_test = X_test.isnull().sum().sum()\n",
    "\n",
    "if missing_train > 0 or missing_test > 0:\n",
    "    print(f\"Found {missing_train} missing values in train, {missing_test} in test\")\n",
    "    print(\"Filling with 0...\")\n",
    "    X_train = X_train.fillna(0)\n",
    "    X_test = X_test.fillna(0)\n",
    "else:\n",
    "    print(\"No missing values found!\")\n"
   ]
  },
  {
   "cell_type": "code",
   "execution_count": 4,
   "id": "154992f6",
   "metadata": {},
   "outputs": [
    {
     "name": "stdout",
     "output_type": "stream",
     "text": [
      "TRAINING RANDOM FOREST\n",
      "\n",
      "🌲 Initializing Random Forest Classifier...\n",
      "\n",
      "Hyperparameters:\n",
      "  - n_estimators: 100 (number of trees)\n",
      "  - max_depth: 20 (max tree depth)\n",
      "  - min_samples_split: 5\n",
      "  - min_samples_leaf: 2\n",
      "  - class_weight: balanced (handle imbalance)\n",
      "  - random_state: 42 (reproducibility)\n",
      "  - n_jobs: -1 (use all CPU cores)\n",
      "\n",
      "🚀 Training model...\n"
     ]
    },
    {
     "name": "stderr",
     "output_type": "stream",
     "text": [
      "[Parallel(n_jobs=-1)]: Using backend ThreadingBackend with 12 concurrent workers.\n",
      "[Parallel(n_jobs=-1)]: Done  26 tasks      | elapsed:   10.0s\n"
     ]
    },
    {
     "name": "stdout",
     "output_type": "stream",
     "text": [
      "\n",
      "✅ Training complete!\n",
      "⏱️ Training time: 33.08 seconds (0.55 minutes)\n"
     ]
    },
    {
     "name": "stderr",
     "output_type": "stream",
     "text": [
      "[Parallel(n_jobs=-1)]: Done 100 out of 100 | elapsed:   31.7s finished\n"
     ]
    }
   ],
   "source": [
    "# ============================================\n",
    "# STEP 4: TRAIN RANDOM FOREST MODEL\n",
    "# ============================================\n",
    "\n",
    "print(\"TRAINING RANDOM FOREST\")\n",
    "\n",
    "# Initialize Random Forest\n",
    "# WHAT: Random Forest = ensemble of decision trees\n",
    "# WHY: Robust, handles non-linear patterns, less prone to overfitting\n",
    "# PARAMETERS:\n",
    "#   - n_estimators: Number of trees (more = better but slower)\n",
    "#   - max_depth: Max depth of each tree (prevent overfitting)\n",
    "#   - min_samples_split: Min samples to split a node\n",
    "#   - min_samples_leaf: Min samples in a leaf node\n",
    "#   - class_weight: Handle imbalance\n",
    "#   - random_state: For reproducibility\n",
    "#   - n_jobs: Use all CPU cores (-1)\n",
    "\n",
    "print(\"\\n🌲 Initializing Random Forest Classifier...\")\n",
    "print(\"\\nHyperparameters:\")\n",
    "print(\"  - n_estimators: 100 (number of trees)\")\n",
    "print(\"  - max_depth: 20 (max tree depth)\")\n",
    "print(\"  - min_samples_split: 5\")\n",
    "print(\"  - min_samples_leaf: 2\")\n",
    "print(\"  - class_weight: balanced (handle imbalance)\")\n",
    "print(\"  - random_state: 42 (reproducibility)\")\n",
    "print(\"  - n_jobs: -1 (use all CPU cores)\")\n",
    "\n",
    "rf_model = RandomForestClassifier(\n",
    "    n_estimators=100,\n",
    "    max_depth=20,\n",
    "    min_samples_split=5,\n",
    "    min_samples_leaf=2,\n",
    "    class_weight='balanced',  # Automatically handles imbalance\n",
    "    random_state=42,\n",
    "    n_jobs=-1,\n",
    "    verbose=1  # Show progress\n",
    ")\n",
    "\n",
    "# Train model\n",
    "print(\"\\n🚀 Training model...\")\n",
    "start_time = datetime.now()\n",
    "\n",
    "rf_model.fit(X_train, y_train)\n",
    "\n",
    "end_time = datetime.now()\n",
    "training_time = (end_time - start_time).total_seconds()\n",
    "\n",
    "print(f\"\\n✅ Training complete!\")\n",
    "print(f\"⏱️ Training time: {training_time:.2f} seconds ({training_time/60:.2f} minutes)\")"
   ]
  },
  {
   "cell_type": "code",
   "execution_count": 5,
   "id": "dc724265",
   "metadata": {},
   "outputs": [
    {
     "name": "stdout",
     "output_type": "stream",
     "text": [
      "\n",
      "============================================================\n",
      "MAKING PREDICTIONS\n",
      "============================================================\n",
      "\n",
      "📊 Predicting on training set...\n"
     ]
    },
    {
     "name": "stderr",
     "output_type": "stream",
     "text": [
      "[Parallel(n_jobs=12)]: Using backend ThreadingBackend with 12 concurrent workers.\n",
      "[Parallel(n_jobs=12)]: Done  26 tasks      | elapsed:    0.3s\n",
      "[Parallel(n_jobs=12)]: Done 100 out of 100 | elapsed:    1.3s finished\n",
      "[Parallel(n_jobs=12)]: Using backend ThreadingBackend with 12 concurrent workers.\n",
      "[Parallel(n_jobs=12)]: Done  26 tasks      | elapsed:    0.0s\n",
      "[Parallel(n_jobs=12)]: Done 100 out of 100 | elapsed:    0.0s finished\n"
     ]
    },
    {
     "name": "stdout",
     "output_type": "stream",
     "text": [
      "📊 Predicting on test set...\n",
      "📊 Getting probability predictions...\n"
     ]
    },
    {
     "name": "stderr",
     "output_type": "stream",
     "text": [
      "[Parallel(n_jobs=12)]: Using backend ThreadingBackend with 12 concurrent workers.\n",
      "[Parallel(n_jobs=12)]: Done  26 tasks      | elapsed:    0.3s\n",
      "[Parallel(n_jobs=12)]: Done 100 out of 100 | elapsed:    1.2s finished\n",
      "[Parallel(n_jobs=12)]: Using backend ThreadingBackend with 12 concurrent workers.\n",
      "[Parallel(n_jobs=12)]: Done  26 tasks      | elapsed:    0.0s\n",
      "[Parallel(n_jobs=12)]: Done 100 out of 100 | elapsed:    0.0s finished\n"
     ]
    },
    {
     "name": "stdout",
     "output_type": "stream",
     "text": [
      "✅ Predictions complete!\n"
     ]
    }
   ],
   "source": [
    "# ============================================\n",
    "# STEP 5: MAKE PREDICTIONS\n",
    "# ============================================\n",
    "\n",
    "print(\"\\n\" + \"=\"*60)\n",
    "print(\"MAKING PREDICTIONS\")\n",
    "print(\"=\"*60)\n",
    "\n",
    "# Predict on training set (to check for overfitting)\n",
    "print(\"\\n📊 Predicting on training set...\")\n",
    "y_train_pred = rf_model.predict(X_train)\n",
    "\n",
    "# Predict on test set (actual performance)\n",
    "print(\"📊 Predicting on test set...\")\n",
    "y_test_pred = rf_model.predict(X_test)\n",
    "\n",
    "# Get probability predictions (for ROC curve)\n",
    "print(\"📊 Getting probability predictions...\")\n",
    "y_train_proba = rf_model.predict_proba(X_train)[:, 1]  # Probability of 'phish'\n",
    "y_test_proba = rf_model.predict_proba(X_test)[:, 1]\n",
    "\n",
    "print(\"✅ Predictions complete!\")"
   ]
  },
  {
   "cell_type": "code",
   "execution_count": 6,
   "id": "c45e5e56",
   "metadata": {},
   "outputs": [
    {
     "name": "stdout",
     "output_type": "stream",
     "text": [
      "MODEL EVALUATION\n",
      "PERFORMANCE METRICS\n",
      "\n",
      "TRAINING SET:\n",
      "  Accuracy:  96.76%\n",
      "  Precision: 93.97%\n",
      "  Recall:    96.00%\n",
      "  F1-Score:  94.98%\n",
      "\n",
      "TEST SET (ACTUAL PERFORMANCE):\n",
      "  Accuracy:  93.77%\n",
      "  Precision: 80.54%\n",
      "  Recall:    87.00%\n",
      "  F1-Score:  83.64%\n",
      "\n",
      "Overfitting Check:\n",
      "Slight overfitting (train-test diff: 2.99%)\n",
      "DETAILED CLASSIFICATION REPORT (Test Set)\n",
      "              precision    recall  f1-score   support\n",
      "\n",
      "      benign       0.97      0.95      0.96     30048\n",
      "       phish       0.81      0.87      0.84      6739\n",
      "\n",
      "    accuracy                           0.94     36787\n",
      "   macro avg       0.89      0.91      0.90     36787\n",
      "weighted avg       0.94      0.94      0.94     36787\n",
      "\n",
      "\n",
      "METRIC EXPLANATIONS:\n",
      "  • Accuracy: % of correct predictions (both phish and benign)\n",
      "  • Precision: Of predicted phishing, how many are actually phishing?\n",
      "  • Recall: Of actual phishing, how many did we catch?\n",
      "  • F1-Score: Balance between precision and recall\n"
     ]
    }
   ],
   "source": [
    "# ============================================\n",
    "# STEP 6: EVALUATE MODEL PERFORMANCE\n",
    "# ============================================\n",
    "\n",
    "print(\"MODEL EVALUATION\")\n",
    "\n",
    "# Calculate metrics for training set\n",
    "train_accuracy = accuracy_score(y_train, y_train_pred)\n",
    "train_precision = precision_score(y_train, y_train_pred, pos_label='phish')\n",
    "train_recall = recall_score(y_train, y_train_pred, pos_label='phish')\n",
    "train_f1 = f1_score(y_train, y_train_pred, pos_label='phish')\n",
    "\n",
    "# Calculate metrics for test set\n",
    "test_accuracy = accuracy_score(y_test, y_test_pred)\n",
    "test_precision = precision_score(y_test, y_test_pred, pos_label='phish')\n",
    "test_recall = recall_score(y_test, y_test_pred, pos_label='phish')\n",
    "test_f1 = f1_score(y_test, y_test_pred, pos_label='phish')\n",
    "\n",
    "# Display results\n",
    "print(\"PERFORMANCE METRICS\")\n",
    "\n",
    "print(\"\\nTRAINING SET:\")\n",
    "print(f\"  Accuracy:  {train_accuracy*100:.2f}%\")\n",
    "print(f\"  Precision: {train_precision*100:.2f}%\")\n",
    "print(f\"  Recall:    {train_recall*100:.2f}%\")\n",
    "print(f\"  F1-Score:  {train_f1*100:.2f}%\")\n",
    "\n",
    "print(\"\\nTEST SET (ACTUAL PERFORMANCE):\")\n",
    "print(f\"  Accuracy:  {test_accuracy*100:.2f}%\")\n",
    "print(f\"  Precision: {test_precision*100:.2f}%\")\n",
    "print(f\"  Recall:    {test_recall*100:.2f}%\")\n",
    "print(f\"  F1-Score:  {test_f1*100:.2f}%\")\n",
    "\n",
    "# Check for overfitting\n",
    "print(\"\\nOverfitting Check:\")\n",
    "accuracy_diff = (train_accuracy - test_accuracy) * 100\n",
    "if accuracy_diff < 2:\n",
    "    print(f\"No overfitting (train-test diff: {accuracy_diff:.2f}%)\")\n",
    "elif accuracy_diff < 5:\n",
    "    print(f\"Slight overfitting (train-test diff: {accuracy_diff:.2f}%)\")\n",
    "else:\n",
    "    print(f\"Significant overfitting (train-test diff: {accuracy_diff:.2f}%)\")\n",
    "\n",
    "# Detailed classification report\n",
    "print(\"DETAILED CLASSIFICATION REPORT (Test Set)\")\n",
    "print(classification_report(y_test, y_test_pred))\n",
    "\n",
    "# INTERPRETATION:\n",
    "print(\"\\nMETRIC EXPLANATIONS:\")\n",
    "print(\"  • Accuracy: % of correct predictions (both phish and benign)\")\n",
    "print(\"  • Precision: Of predicted phishing, how many are actually phishing?\")\n",
    "print(\"  • Recall: Of actual phishing, how many did we catch?\")\n",
    "print(\"  • F1-Score: Balance between precision and recall\")"
   ]
  },
  {
   "cell_type": "code",
   "execution_count": 7,
   "id": "cd51845b",
   "metadata": {},
   "outputs": [
    {
     "name": "stdout",
     "output_type": "stream",
     "text": [
      "CONFUSION MATRIX\n",
      "\n",
      "Confusion Matrix:\n",
      "[[28631  1417]\n",
      " [  876  5863]]\n",
      "\n",
      "Interpretation:\n",
      "  True Negatives (TN):  28,631 - Correctly identified benign\n",
      "  False Positives (FP): 1,417 - Benign wrongly flagged as phishing\n",
      "  False Negatives (FN): 876 - Phishing missed!\n",
      "  True Positives (TP):  5,863 - Correctly identified phishing\n"
     ]
    },
    {
     "data": {
      "image/png": "[encoded data removed]",
      "text/plain": [
       "<Figure size 1000x800 with 2 Axes>"
      ]
     },
     "metadata": {},
     "output_type": "display_data"
    },
    {
     "name": "stdout",
     "output_type": "stream",
     "text": [
      "\n",
      "📊 Error Analysis:\n",
      "  False Positive Rate: 4.72% (benign marked as phishing)\n",
      "  False Negative Rate: 13.00% (phishing that slipped through)\n",
      "\n",
      "In phishing detection:\n",
      "  • FP = Annoying (legitimate site blocked)\n",
      "  • FN = DANGEROUS (phishing site allowed through)\n"
     ]
    }
   ],
   "source": [
    "# ============================================\n",
    "# STEP 7: CONFUSION MATRIX\n",
    "# ============================================\n",
    "\n",
    "print(\"CONFUSION MATRIX\")\n",
    "\n",
    "# Calculate confusion matrix\n",
    "cm = confusion_matrix(y_test, y_test_pred, labels=['benign', 'phish'])\n",
    "\n",
    "print(\"\\nConfusion Matrix:\")\n",
    "print(cm)\n",
    "print(\"\\nInterpretation:\")\n",
    "print(f\"  True Negatives (TN):  {cm[0,0]:,} - Correctly identified benign\")\n",
    "print(f\"  False Positives (FP): {cm[0,1]:,} - Benign wrongly flagged as phishing\")\n",
    "print(f\"  False Negatives (FN): {cm[1,0]:,} - Phishing missed!\")\n",
    "print(f\"  True Positives (TP):  {cm[1,1]:,} - Correctly identified phishing\")\n",
    "\n",
    "# Visualize confusion matrix\n",
    "plt.figure(figsize=(10, 8))\n",
    "sns.heatmap(cm, annot=True, fmt='d', cmap='Blues', \n",
    "            xticklabels=['Benign', 'Phishing'],\n",
    "            yticklabels=['Benign', 'Phishing'],\n",
    "            cbar_kws={'label': 'Count'})\n",
    "plt.title('Confusion Matrix - Random Forest', fontsize=16, fontweight='bold')\n",
    "plt.ylabel('Actual Label', fontsize=12)\n",
    "plt.xlabel('Predicted Label', fontsize=12)\n",
    "plt.tight_layout()\n",
    "plt.show()\n",
    "\n",
    "# Calculate error rates\n",
    "fpr = cm[0,1] / (cm[0,0] + cm[0,1])  # False Positive Rate\n",
    "fnr = cm[1,0] / (cm[1,0] + cm[1,1])  # False Negative Rate\n",
    "\n",
    "print(f\"\\n📊 Error Analysis:\")\n",
    "print(f\"  False Positive Rate: {fpr*100:.2f}% (benign marked as phishing)\")\n",
    "print(f\"  False Negative Rate: {fnr*100:.2f}% (phishing that slipped through)\")\n",
    "print(\"\\nIn phishing detection:\")\n",
    "print(\"  • FP = Annoying (legitimate site blocked)\")\n",
    "print(\"  • FN = DANGEROUS (phishing site allowed through)\")"
   ]
  },
  {
   "cell_type": "code",
   "execution_count": 8,
   "id": "949606a5",
   "metadata": {},
   "outputs": [
    {
     "name": "stdout",
     "output_type": "stream",
     "text": [
      "ROC CURVE\n",
      "\n",
      "ROC AUC Score: 0.9761\n",
      "\n",
      "AUC Interpretation:\n",
      "  • 0.90-1.00: Excellent\n",
      "  • 0.80-0.90: Good\n",
      "  • 0.70-0.80: Fair\n",
      "  • 0.60-0.70: Poor\n",
      "  • 0.50-0.60: Fail\n"
     ]
    },
    {
     "data": {
      "image/png": "[encoded data removed]",
      "text/plain": [
       "<Figure size 1000x800 with 1 Axes>"
      ]
     },
     "metadata": {},
     "output_type": "display_data"
    }
   ],
   "source": [
    "# ============================================\n",
    "# STEP 8: ROC CURVE AND AUC\n",
    "# ============================================\n",
    "\n",
    "print(\"ROC CURVE\")\n",
    "\n",
    "# Convert labels to binary (for ROC calculation)\n",
    "y_test_binary = (y_test == 'phish').astype(int)\n",
    "\n",
    "# Calculate ROC curve\n",
    "fpr_roc, tpr_roc, thresholds = roc_curve(y_test_binary, y_test_proba)\n",
    "roc_auc = roc_auc_score(y_test_binary, y_test_proba)\n",
    "\n",
    "print(f\"\\nROC AUC Score: {roc_auc:.4f}\")\n",
    "print(\"\\nAUC Interpretation:\")\n",
    "print(\"  • 0.90-1.00: Excellent\")\n",
    "print(\"  • 0.80-0.90: Good\")\n",
    "print(\"  • 0.70-0.80: Fair\")\n",
    "print(\"  • 0.60-0.70: Poor\")\n",
    "print(\"  • 0.50-0.60: Fail\")\n",
    "\n",
    "# Plot ROC curve\n",
    "plt.figure(figsize=(10, 8))\n",
    "plt.plot(fpr_roc, tpr_roc, color='darkorange', lw=2, \n",
    "         label=f'ROC curve (AUC = {roc_auc:.4f})')\n",
    "plt.plot([0, 1], [0, 1], color='navy', lw=2, linestyle='--', \n",
    "         label='Random Classifier (AUC = 0.5)')\n",
    "plt.xlim([0.0, 1.0])\n",
    "plt.ylim([0.0, 1.05])\n",
    "plt.xlabel('False Positive Rate', fontsize=12)\n",
    "plt.ylabel('True Positive Rate (Recall)', fontsize=12)\n",
    "plt.title('ROC Curve - Random Forest', fontsize=16, fontweight='bold')\n",
    "plt.legend(loc=\"lower right\", fontsize=12)\n",
    "plt.grid(alpha=0.3)\n",
    "plt.tight_layout()\n",
    "plt.show()"
   ]
  },
  {
   "cell_type": "code",
   "execution_count": 10,
   "id": "1aa6124c",
   "metadata": {},
   "outputs": [
    {
     "name": "stdout",
     "output_type": "stream",
     "text": [
      "FEATURE IMPORTANCE\n"
     ]
    },
    {
     "ename": "NameError",
     "evalue": "name 'feature_names' is not defined",
     "output_type": "error",
     "traceback": [
      "\u001b[31m---------------------------------------------------------------------------\u001b[39m",
      "\u001b[31mNameError\u001b[39m                                 Traceback (most recent call last)",
      "\u001b[36mCell\u001b[39m\u001b[36m \u001b[39m\u001b[32mIn[10]\u001b[39m\u001b[32m, line 9\u001b[39m\n\u001b[32m      1\u001b[39m \u001b[38;5;66;03m# ============================================\u001b[39;00m\n\u001b[32m      2\u001b[39m \u001b[38;5;66;03m# STEP 9: FEATURE IMPORTANCE\u001b[39;00m\n\u001b[32m      3\u001b[39m \u001b[38;5;66;03m# ============================================\u001b[39;00m\n\u001b[32m      5\u001b[39m \u001b[38;5;28mprint\u001b[39m(\u001b[33m\"\u001b[39m\u001b[33mFEATURE IMPORTANCE\u001b[39m\u001b[33m\"\u001b[39m)\n\u001b[32m      8\u001b[39m feature_importance = pd.DataFrame({\n\u001b[32m----> \u001b[39m\u001b[32m9\u001b[39m     \u001b[33m'\u001b[39m\u001b[33mfeature\u001b[39m\u001b[33m'\u001b[39m: \u001b[43mfeature_names\u001b[49m,\n\u001b[32m     10\u001b[39m     \u001b[33m'\u001b[39m\u001b[33mimportance\u001b[39m\u001b[33m'\u001b[39m: rf_model.feature_importances_\n\u001b[32m     11\u001b[39m }).sort_values(\u001b[33m'\u001b[39m\u001b[33mimportance\u001b[39m\u001b[33m'\u001b[39m, ascending=\u001b[38;5;28;01mFalse\u001b[39;00m)\n\u001b[32m     13\u001b[39m \u001b[38;5;28mprint\u001b[39m(\u001b[33m\"\u001b[39m\u001b[38;5;130;01m\\n\u001b[39;00m\u001b[33mTop 20 Most Important Features:\u001b[39m\u001b[33m\"\u001b[39m)\n\u001b[32m     14\u001b[39m \u001b[38;5;28mprint\u001b[39m(feature_importance.head(\u001b[32m20\u001b[39m))\n",
      "\u001b[31mNameError\u001b[39m: name 'feature_names' is not defined"
     ]
    }
   ],
   "source": [
    "# ============================================\n",
    "# STEP 9: FEATURE IMPORTANCE\n",
    "# ============================================\n",
    "\n",
    "print(\"FEATURE IMPORTANCE\")\n",
    "\n",
    "\n",
    "feature_importance = pd.DataFrame({\n",
    "    'feature': feature_names,\n",
    "    'importance': rf_model.feature_importances_\n",
    "}).sort_values('importance', ascending=False)\n",
    "\n",
    "print(\"\\nTop 20 Most Important Features:\")\n",
    "print(feature_importance.head(20))\n",
    "\n",
    "# Visualize top 20 features\n",
    "plt.figure(figsize=(12, 10))\n",
    "top_20_features = feature_importance.head(20)\n",
    "plt.barh(range(len(top_20_features)), top_20_features['importance'])\n",
    "plt.yticks(range(len(top_20_features)), top_20_features['feature'])\n",
    "plt.xlabel('Importance Score', fontsize=12)\n",
    "plt.title('Top 20 Feature Importances - Random Forest', fontsize=16, fontweight='bold')\n",
    "plt.gca().invert_yaxis()  # Highest importance at top\n",
    "plt.tight_layout()\n",
    "plt.show()\n"
   ]
  },
  {
   "cell_type": "code",
   "execution_count": 12,
   "id": "3fafd5a5",
   "metadata": {},
   "outputs": [
    {
     "name": "stdout",
     "output_type": "stream",
     "text": [
      "SAVING MODEL\n",
      "\n",
      "Saving model to: ../../../models/url-detection\\random_forest.pkl\n",
      "Model saved successfully!\n",
      "\n",
      "Model file size: 70.10 MB\n"
     ]
    }
   ],
   "source": [
    "# ============================================\n",
    "# STEP 10: SAVE MODEL\n",
    "# ============================================\n",
    "\n",
    "print(\"SAVING MODEL\")\n",
    "\n",
    "# Create models directory if it doesn't exist\n",
    "model_dir = '../../../models/url-detection'\n",
    "os.makedirs(model_dir, exist_ok=True)\n",
    "\n",
    "# Save model\n",
    "model_path = os.path.join(model_dir, 'random_forest.pkl')\n",
    "print(f\"\\nSaving model to: {model_path}\")\n",
    "\n",
    "with open(model_path, 'wb') as f:\n",
    "    pickle.dump(rf_model, f)\n",
    "\n",
    "print(\"Model saved successfully!\")\n",
    "\n",
    "\n",
    "# Print file sizes\n",
    "model_size = os.path.getsize(model_path) / (1024 * 1024)  # MB\n",
    "print(f\"\\nModel file size: {model_size:.2f} MB\")"
   ]
  },
  {
   "cell_type": "code",
   "execution_count": 13,
   "id": "b24b341c",
   "metadata": {},
   "outputs": [
    {
     "name": "stdout",
     "output_type": "stream",
     "text": [
      "\n",
      "============================================================\n",
      "TESTING MODEL LOADING\n",
      "============================================================\n",
      "\n",
      "Loading saved model...\n",
      "Testing prediction with loaded model...\n",
      "Sample predictions: ['benign' 'benign' 'benign' 'benign' 'benign']\n",
      "Model loads and works correctly!\n"
     ]
    },
    {
     "name": "stderr",
     "output_type": "stream",
     "text": [
      "[Parallel(n_jobs=12)]: Using backend ThreadingBackend with 12 concurrent workers.\n",
      "[Parallel(n_jobs=12)]: Done  26 tasks      | elapsed:    0.0s\n",
      "[Parallel(n_jobs=12)]: Done 100 out of 100 | elapsed:    0.0s finished\n"
     ]
    }
   ],
   "source": [
    "# ============================================\n",
    "# STEP 11: TEST LOADING MODEL (SANITY CHECK)\n",
    "# ============================================\n",
    "\n",
    "print(\"\\n\" + \"=\"*60)\n",
    "print(\"TESTING MODEL LOADING\")\n",
    "print(\"=\"*60)\n",
    "\n",
    "# Load the model we just saved\n",
    "print(\"\\nLoading saved model...\")\n",
    "with open(model_path, 'rb') as f:\n",
    "    loaded_model = pickle.load(f)\n",
    "\n",
    "# Make a prediction with loaded model\n",
    "print(\"Testing prediction with loaded model...\")\n",
    "sample_prediction = loaded_model.predict(X_test.head(5))\n",
    "print(f\"Sample predictions: {sample_prediction}\")\n",
    "\n",
    "print(\"Model loads and works correctly!\")"
   ]
  }
 ],
 "metadata": {
  "kernelspec": {
   "display_name": "ml_project",
   "language": "python",
   "name": "python3"
  },
  "language_info": {
   "codemirror_mode": {
    "name": "ipython",
    "version": 3
   },
   "file_extension": ".py",
   "mimetype": "text/x-python",
   "name": "python",
   "nbconvert_exporter": "python",
   "pygments_lexer": "ipython3",
   "version": "3.12.12"
  }
 },
 "nbformat": 4,
 "nbformat_minor": 5
}
